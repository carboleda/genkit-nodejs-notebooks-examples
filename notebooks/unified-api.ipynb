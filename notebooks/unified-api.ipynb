{
 "cells": [
  {
   "cell_type": "code",
   "execution_count": null,
   "id": "c7ac5408",
   "metadata": {},
   "outputs": [],
   "source": [
    "import { z } from 'zod';\n",
    "\n",
    "const restaurantSuggestionSchema = z.object({\n",
    "  dishName: z.string().describe('The name of the dish'),\n",
    "  description: z.string().describe('A brief description of the dish'),\n",
    "  allergens: z.array(z.string()).describe('List of common allergens'),\n",
    "});\n",
    "const MenuItemSchema = restaurantSuggestionSchema.shape;"
   ]
  },
  {
   "cell_type": "code",
   "execution_count": 10,
   "id": "3a7da58b",
   "metadata": {},
   "outputs": [],
   "source": [
    "import { googleAI, gemini20Flash } from '@genkit-ai/googleai';\n",
    "import { genkit } from 'genkit';\n",
    "\n",
    "const ai = genkit({\n",
    "  plugins: [googleAI()],\n",
    "  model: gemini20Flash, // set default model\n",
    "});\n",
    "\n",
    "async function suggestMenuItem(theme: string) {\n",
    "  const { output } = await ai.generate({\n",
    "    model: gemini20Flash,\n",
    "    prompt: `Invent a unique menu item for a \"${theme}\" themed restaurant.`,\n",
    "    output: {\n",
    "      schema: restaurantSuggestionSchema,\n",
    "    },\n",
    "  });\n",
    "  return output;\n",
    "}\n"
   ]
  },
  {
   "cell_type": "code",
   "execution_count": null,
   "id": "c0b637da",
   "metadata": {},
   "outputs": [
    {
     "name": "stdout",
     "output_type": "stream",
     "text": [
      "Suggested Menu Item: {\n",
      "  allergens: [ \"gluten\", \"dairy\", \"nuts\" ],\n",
      "  description: \"Hand-rolled potato gnocchi filled with a truffle and ricotta cheese mixture, served in a creamy pesto sauce with toasted pine nuts and shaved parmesan.\",\n",
      "  dishName: \"Gnocchi Tartufati al Pesto\"\n",
      "}\n"
     ]
    }
   ],
   "source": [
    "import 'https://deno.land/x/dotenv/load.ts';\n",
    "\n",
    "await suggestMenuItem('Italian')\n",
    "  .then((menuItem: MenuItemSchema) => {\n",
    "    console.log(\"Suggested Menu Item:\", menuItem);\n",
    "  })\n",
    "  .catch((error) => {\n",
    "    console.error(\"Error suggesting menu item:\", error);\n",
    "  });\n"
   ]
  }
 ],
 "metadata": {
  "kernelspec": {
   "display_name": "Deno",
   "language": "typescript",
   "name": "deno"
  },
  "language_info": {
   "codemirror_mode": "typescript",
   "file_extension": ".ts",
   "mimetype": "text/x.typescript",
   "name": "typescript",
   "nbconvert_exporter": "script",
   "pygments_lexer": "typescript",
   "version": "5.8.3"
  }
 },
 "nbformat": 4,
 "nbformat_minor": 5
}
