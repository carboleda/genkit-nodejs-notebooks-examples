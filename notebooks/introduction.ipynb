{
 "cells": [
  {
   "cell_type": "markdown",
   "id": "f18a8188",
   "metadata": {},
   "source": [
    "## Import necessary modules"
   ]
  },
  {
   "cell_type": "code",
   "execution_count": 2,
   "id": "670bff13",
   "metadata": {},
   "outputs": [],
   "source": [
    "import { z } from \"genkit\";\n",
    "import { genkit } from \"genkit/beta\";\n",
    "import { googleAI } from \"@genkit-ai/googleai\";\n",
    "import { ollama } from 'genkitx-ollama';"
   ]
  },
  {
   "cell_type": "markdown",
   "id": "8bcfc272",
   "metadata": {},
   "source": [
    "## Instanciate Genkit"
   ]
  },
  {
   "cell_type": "code",
   "execution_count": null,
   "id": "30902210",
   "metadata": {},
   "outputs": [],
   "source": [
    "const ai = genkit({\n",
    "  plugins: [\n",
    "     ollama({\n",
    "      models: [{ name: 'gemma' }],\n",
    "      serverAddress: 'http://127.0.0.1:11434', // default local address\n",
    "    }),\n",
    "  ],\n",
    "  // model: googleAI.model('gemini-2.0-flash'),\n",
    "});"
   ]
  },
  {
   "cell_type": "markdown",
   "id": "ef865ed7",
   "metadata": {},
   "source": [
    "## Generate text"
   ]
  },
  {
   "cell_type": "code",
   "execution_count": 1,
   "id": "a54e519b",
   "metadata": {},
   "outputs": [
    {
     "ename": "ReferenceError",
     "evalue": "ai is not defined",
     "output_type": "error",
     "traceback": [
      "Stack trace:",
      "ReferenceError: ai is not defined",
      "    at <anonymous>:1:39"
     ]
    }
   ],
   "source": [
    "const { text } = await ai.generate({\n",
    "  prompt: \"Como es mi nombre?\",\n",
    "  messages: [{ role: \"user\", content: [{ text: \"Mi nombre es Juan\" }] }],\n",
    "  model: \"ollama/gemma:7b\",\n",
    "});\n",
    "console.log(text);\n"
   ]
  }
 ],
 "metadata": {
  "kernelspec": {
   "display_name": "Deno",
   "language": "typescript",
   "name": "deno"
  },
  "language_info": {
   "codemirror_mode": "typescript",
   "file_extension": ".ts",
   "mimetype": "text/x.typescript",
   "name": "typescript",
   "nbconvert_exporter": "script",
   "pygments_lexer": "typescript",
   "version": "5.8.3"
  }
 },
 "nbformat": 4,
 "nbformat_minor": 5
}
